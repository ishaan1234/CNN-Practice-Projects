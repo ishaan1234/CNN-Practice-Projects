{
  "nbformat": 4,
  "nbformat_minor": 0,
  "metadata": {
    "colab": {
      "provenance": [],
      "include_colab_link": true
    },
    "kernelspec": {
      "name": "python3",
      "display_name": "Python 3"
    },
    "language_info": {
      "name": "python"
    },
    "accelerator": "GPU",
    "gpuClass": "standard"
  },
  "cells": [
    {
      "cell_type": "markdown",
      "metadata": {
        "id": "view-in-github",
        "colab_type": "text"
      },
      "source": [
        "<a href=\"https://colab.research.google.com/github/ishaan1234/hello-world/blob/main/DL%20Hackathon.ipynb\" target=\"_parent\"><img src=\"https://colab.research.google.com/assets/colab-badge.svg\" alt=\"Open In Colab\"/></a>"
      ]
    },
    {
      "cell_type": "markdown",
      "source": [
        "## Mounting to drive and Unzipping the files "
      ],
      "metadata": {
        "id": "UNGD2HhONsTR"
      }
    },
    {
      "cell_type": "code",
      "source": [
        "from google.colab import drive\n",
        "drive.mount('/content/drive')"
      ],
      "metadata": {
        "colab": {
          "base_uri": "https://localhost:8080/"
        },
        "id": "fOl-XpiwMWZ9",
        "outputId": "ce92fb09-35d2-4334-b271-305da393fd23"
      },
      "execution_count": 111,
      "outputs": [
        {
          "output_type": "stream",
          "name": "stdout",
          "text": [
            "Drive already mounted at /content/drive; to attempt to forcibly remount, call drive.mount(\"/content/drive\", force_remount=True).\n"
          ]
        }
      ]
    },
    {
      "cell_type": "code",
      "source": [
        "!unzip \"/content/drive/MyDrive/DeepLearning_Hackathon/archive.zip\" -d \"/content/drive/MyDrive/DeepLearning_Hackathon\""
      ],
      "metadata": {
        "id": "fsLjPl0ZMXEv",
        "colab": {
          "base_uri": "https://localhost:8080/"
        },
        "outputId": "11b041b3-88de-414f-a33f-e383755e2af3"
      },
      "execution_count": 112,
      "outputs": [
        {
          "output_type": "stream",
          "name": "stdout",
          "text": [
            "unzip:  cannot find or open /content/drive/MyDrive/DeepLearning_Hackathon/archive.zip, /content/drive/MyDrive/DeepLearning_Hackathon/archive.zip.zip or /content/drive/MyDrive/DeepLearning_Hackathon/archive.zip.ZIP.\n"
          ]
        }
      ]
    },
    {
      "cell_type": "code",
      "source": [
        "import tensorflow as tf\n",
        "import pandas as pd\n",
        "import tensorflow_hub as hub\n",
        "import numpy as np\n",
        "import os\n"
      ],
      "metadata": {
        "id": "vzGvJqcXNRKh"
      },
      "execution_count": 113,
      "outputs": []
    },
    {
      "cell_type": "code",
      "source": [
        "new_train_from_casting_def=[]\n",
        "def_front_path=\"/content/drive/MyDrive/Deep Learning Hackathon/casting_data/casting_data/train/def_front/\"\n",
        "for img_name in os.listdir(\"/content/drive/MyDrive/Deep Learning Hackathon/casting_data/casting_data/train/def_front\"):\n",
        "  new_train_from_casting_def.append(def_front_path+img_name)"
      ],
      "metadata": {
        "id": "lug0KHsKjEnc"
      },
      "execution_count": 114,
      "outputs": []
    },
    {
      "cell_type": "code",
      "source": [
        "new_train_from_casting_ok=[]\n",
        "ok_front_path=\"/content/drive/MyDrive/Deep Learning Hackathon/casting_data/casting_data/train/ok_front/\"\n",
        "for img_name in os.listdir(\"/content/drive/MyDrive/Deep Learning Hackathon/casting_data/casting_data/train/ok_front\"):\n",
        "  new_train_from_casting_ok.append(ok_front_path+img_name)"
      ],
      "metadata": {
        "id": "doZxjyHVj_Pt"
      },
      "execution_count": 115,
      "outputs": []
    },
    {
      "cell_type": "code",
      "source": [],
      "metadata": {
        "id": "uvXRcI3Mdu2V"
      },
      "execution_count": 115,
      "outputs": []
    },
    {
      "cell_type": "code",
      "source": [
        "from matplotlib.pyplot import imread\n",
        "image= imread(new_train_from_casting_def[0])\n",
        "image.shape"
      ],
      "metadata": {
        "colab": {
          "base_uri": "https://localhost:8080/"
        },
        "id": "p6b8KJNufYM7",
        "outputId": "07da8c02-74be-47a4-a521-8cc11f46316a"
      },
      "execution_count": 116,
      "outputs": [
        {
          "output_type": "execute_result",
          "data": {
            "text/plain": [
              "(300, 300, 3)"
            ]
          },
          "metadata": {},
          "execution_count": 116
        }
      ]
    },
    {
      "cell_type": "code",
      "source": [
        "from IPython.display import Image\n",
        "Image(f\"{new_train_from_casting_def[0]}\")"
      ],
      "metadata": {
        "colab": {
          "base_uri": "https://localhost:8080/",
          "height": 317
        },
        "id": "1PEFxJVIf9qg",
        "outputId": "e250b3f9-1a79-4620-f595-0ed942b7ff4e"
      },
      "execution_count": 117,
      "outputs": [
        {
          "output_type": "execute_result",
          "data": {
            "image/jpeg": "[encoded data removed]",
            "text/plain": [
              "<IPython.core.display.Image object>"
            ]
          },
          "metadata": {},
          "execution_count": 117
        }
      ]
    },
    {
      "cell_type": "code",
      "source": [
        "IMG_SIZE=244\n",
        "labels=[\"defective\", \"ok\"] #0=Defective; 1=OK\n",
        "def img_with_label_tensors(img_path, label):\n",
        "\n",
        "  image= tf.io.read_file(img_path) #Bas file path store ho rha\n",
        "  \n",
        "  #Turn jpg image into numerical Tensor with 3 colour channels (Red, Green, Blue)\n",
        "  image=tf.io.decode_jpeg(image, channels=3) #Path ki image converted to Tensors\n",
        "  \n",
        "  # Convert the colour channel values from 0-255 to 0-1 values\n",
        "  image= tf.image.convert_image_dtype(image, tf.float32)\n",
        "\n",
        "  #Resize the image to (224,224)\n",
        "  image=tf.image.resize(image, size=[IMG_SIZE, IMG_SIZE])\n",
        "\n",
        "  label=tf.constant(label)\n",
        "\n",
        "  return image, label\n"
      ],
      "metadata": {
        "id": "vdSdjkDomQM7"
      },
      "execution_count": 118,
      "outputs": []
    },
    {
      "cell_type": "code",
      "source": [
        "abc= img_with_label_tensors(new_train_from_casting_def[0], labels[0])"
      ],
      "metadata": {
        "id": "PgABfp7Rn5hM"
      },
      "execution_count": 119,
      "outputs": []
    },
    {
      "cell_type": "code",
      "source": [
        "abc"
      ],
      "metadata": {
        "colab": {
          "base_uri": "https://localhost:8080/"
        },
        "id": "IXygh0fFoIn2",
        "outputId": "16d04d82-ce0e-4ef2-e329-57f5b95d7de5"
      },
      "execution_count": 120,
      "outputs": [
        {
          "output_type": "execute_result",
          "data": {
            "text/plain": [
              "(<tf.Tensor: shape=(244, 244, 3), dtype=float32, numpy=\n",
              " array([[[0.61960787, 0.61960787, 0.61960787],\n",
              "         [0.61960787, 0.61960787, 0.61960787],\n",
              "         [0.61960787, 0.61960787, 0.61960787],\n",
              "         ...,\n",
              "         [0.5289618 , 0.5289618 , 0.5289618 ],\n",
              "         [0.5289618 , 0.5289618 , 0.5289618 ],\n",
              "         [0.5289618 , 0.5289618 , 0.5289618 ]],\n",
              " \n",
              "        [[0.61960787, 0.61960787, 0.61960787],\n",
              "         [0.61960787, 0.61960787, 0.61960787],\n",
              "         [0.61960787, 0.61960787, 0.61960787],\n",
              "         ...,\n",
              "         [0.5254902 , 0.5254902 , 0.5254902 ],\n",
              "         [0.5254902 , 0.5254902 , 0.5254902 ],\n",
              "         [0.5254902 , 0.5254902 , 0.5254902 ]],\n",
              " \n",
              "        [[0.6173578 , 0.6173578 , 0.6173578 ],\n",
              "         [0.6181324 , 0.6181324 , 0.6181324 ],\n",
              "         [0.61960787, 0.61960787, 0.61960787],\n",
              "         ...,\n",
              "         [0.5254902 , 0.5254902 , 0.5254902 ],\n",
              "         [0.5254902 , 0.5254902 , 0.5254902 ],\n",
              "         [0.5254902 , 0.5254902 , 0.5254902 ]],\n",
              " \n",
              "        ...,\n",
              " \n",
              "        [[0.605593  , 0.605593  , 0.605593  ],\n",
              "         [0.6069431 , 0.6069431 , 0.6069431 ],\n",
              "         [0.6095146 , 0.6095146 , 0.6095146 ],\n",
              "         ...,\n",
              "         [0.5294118 , 0.5294118 , 0.5294118 ],\n",
              "         [0.5294118 , 0.5294118 , 0.5294118 ],\n",
              "         [0.5294118 , 0.5294118 , 0.5294118 ]],\n",
              " \n",
              "        [[0.6107097 , 0.6107097 , 0.6107097 ],\n",
              "         [0.61345094, 0.61345094, 0.61345094],\n",
              "         [0.61433625, 0.61433625, 0.61433625],\n",
              "         ...,\n",
              "         [0.5294118 , 0.5294118 , 0.5294118 ],\n",
              "         [0.5294118 , 0.5294118 , 0.5294118 ],\n",
              "         [0.5294118 , 0.5294118 , 0.5294118 ]],\n",
              " \n",
              "        [[0.61568624, 0.61568624, 0.61568624],\n",
              "         [0.6191578 , 0.6191578 , 0.6191578 ],\n",
              "         [0.6191578 , 0.6191578 , 0.6191578 ],\n",
              "         ...,\n",
              "         [0.5294118 , 0.5294118 , 0.5294118 ],\n",
              "         [0.5294118 , 0.5294118 , 0.5294118 ],\n",
              "         [0.5294118 , 0.5294118 , 0.5294118 ]]], dtype=float32)>,\n",
              " <tf.Tensor: shape=(), dtype=string, numpy=b'defective'>)"
            ]
          },
          "metadata": {},
          "execution_count": 120
        }
      ]
    },
    {
      "cell_type": "code",
      "source": [],
      "metadata": {
        "id": "TfKaGStuoPf5"
      },
      "execution_count": 120,
      "outputs": []
    }
  ]
}